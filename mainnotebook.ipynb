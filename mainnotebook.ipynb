{
 "cells": [
  {
   "cell_type": "markdown",
   "metadata": {},
   "source": [
    "# IMPORTING PACKAGES"
   ]
  },
  {
   "cell_type": "code",
   "execution_count": 3,
   "metadata": {},
   "outputs": [],
   "source": [
    "import pandas as pd\n",
    "import numpy as  np\n",
    "import matplotlib.pyplot as plt"
   ]
  },
  {
   "cell_type": "markdown",
   "metadata": {},
   "source": [
    "# IMPORTING DATAFRAME"
   ]
  },
  {
   "cell_type": "code",
   "execution_count": 4,
   "metadata": {},
   "outputs": [],
   "source": [
    "df=pd.read_csv('match.csv')\n",
    "mapping={'True':'RADIANT','False':'DIRE'}\n",
    "df =df.astype({\"radiant_win\": str})\n",
    "df=df.replace({'radiant_win': mapping})\n",
    "\n"
   ]
  },
  {
   "cell_type": "markdown",
   "metadata": {},
   "source": [
    "# FUNCTION NUMBER 1 (DIRE WINS VS RADIANT WINS)"
   ]
  },
  {
   "cell_type": "code",
   "execution_count": 5,
   "metadata": {},
   "outputs": [
    {
     "data": {
      "text/plain": [
       "<matplotlib.axes._subplots.AxesSubplot at 0x201b3a77978>"
      ]
     },
     "execution_count": 5,
     "metadata": {},
     "output_type": "execute_result"
    },
    {
     "data": {
      "image/png": "[encoded data removed]",
      "text/plain": [
       "<matplotlib.figure.Figure at 0x201af0ece10>"
      ]
     },
     "metadata": {},
     "output_type": "display_data"
    }
   ],
   "source": [
    "dup_df1=df\n",
    " \n",
    "#GROUPING THE TABLE   \n",
    "dup_df1_groupby=dup_df1.groupby('radiant_win')\n",
    "dup_df1_groupby.first()\n",
    " \n",
    "#FINDING THE COUNT OF THE TABLE\n",
    "dup1_final=dup_df1_groupby.size()\n",
    "    \n",
    "#PLOTTING A BAR GRAPH\n",
    "dup1_final.plot.bar()\n",
    "    "
   ]
  },
  {
   "cell_type": "markdown",
   "metadata": {},
   "source": [
    "# FUNCTION NUMBER 2 (DETAILS OF HIGHEST DURATION GAME)"
   ]
  },
  {
   "cell_type": "code",
   "execution_count": 6,
   "metadata": {},
   "outputs": [
    {
     "name": "stdout",
     "output_type": "stream",
     "text": [
      "      match_id  start_time  duration  tower_status_radiant  tower_status_dire  \\\n",
      "9946      9946  1447432499     16037                     0               1926   \n",
      "\n",
      "      barracks_status_dire  barracks_status_radiant  first_blood_time  \\\n",
      "9946                    51                        0               222   \n",
      "\n",
      "      game_mode radiant_win  negative_votes  positive_votes  cluster  \n",
      "9946         22        DIRE               0               2      188  \n"
     ]
    }
   ],
   "source": [
    "dup_df2=df\n",
    "#FINDING THE MAXIMUM VALUE\n",
    "df2=dup_df2[dup_df2['duration']==dup_df2['duration'].max()]\n",
    "print(df2)\n",
    "    "
   ]
  },
  {
   "cell_type": "markdown",
   "metadata": {},
   "source": [
    "# FUNCTION NUMBER 3 (DETAILS OF LEAST DURATION GAME)"
   ]
  },
  {
   "cell_type": "code",
   "execution_count": 9,
   "metadata": {},
   "outputs": [
    {
     "name": "stdout",
     "output_type": "stream",
     "text": [
      "       match_id  start_time  duration  tower_status_radiant  \\\n",
      "31438     31438  1447625450        59                  2047   \n",
      "\n",
      "       tower_status_dire  barracks_status_dire  barracks_status_radiant  \\\n",
      "31438               2047                    63                       63   \n",
      "\n",
      "       first_blood_time  game_mode radiant_win  negative_votes  \\\n",
      "31438                 0         22        DIRE               0   \n",
      "\n",
      "       positive_votes  cluster  \n",
      "31438               0      123  \n"
     ]
    }
   ],
   "source": [
    "dup_df3=df\n",
    "#FINDING THE MINIMUM VALUE\n",
    "df3=dup_df3[dup_df3['duration']==dup_df3['duration'].min()]\n",
    "print(df3)"
   ]
  },
  {
   "cell_type": "markdown",
   "metadata": {},
   "source": [
    "# FUNCTION NUMBER 4 (MEAN TOWER AND BARRACKS STATUS AFTER THE                                              GAME)"
   ]
  },
  {
   "cell_type": "code",
   "execution_count": 8,
   "metadata": {},
   "outputs": [
    {
     "data": {
      "image/png": "[encoded data removed]",
      "text/plain": [
       "<matplotlib.figure.Figure at 0x201b47889e8>"
      ]
     },
     "metadata": {},
     "output_type": "display_data"
    }
   ],
   "source": [
    "#STACKED BAR GRAPH FUNCTION\n",
    "def stacked_bar(data, series_labels, category_labels=None, \n",
    "                show_values=False, value_format=\"{}\", y_label=None, \n",
    "                grid=True, reverse=False):\n",
    "\n",
    "\n",
    "    ny = len(data[0])\n",
    "    ind = list(range(ny))\n",
    "\n",
    "    axes = []\n",
    "    cum_size = np.zeros(ny)\n",
    "\n",
    "    data = np.array(data)\n",
    "\n",
    "    if reverse:\n",
    "        data = np.flip(data, axis=1)\n",
    "        category_labels = reversed(category_labels)\n",
    "\n",
    "    for i, row_data in enumerate(data):\n",
    "        axes.append(plt.bar(ind, row_data, bottom=cum_size, \n",
    "                            label=series_labels[i]))\n",
    "        cum_size += row_data\n",
    "\n",
    "    if category_labels:\n",
    "        plt.xticks(ind, category_labels)\n",
    "\n",
    "    if y_label:\n",
    "        plt.ylabel(y_label)\n",
    "\n",
    "    plt.legend()\n",
    "\n",
    "    if grid:\n",
    "        plt.grid()\n",
    "\n",
    "    if show_values:\n",
    "        for axis in axes:\n",
    "            for bar in axis:\n",
    "                w, h = bar.get_width(), bar.get_height()\n",
    "                plt.text(bar.get_x() + w/2, bar.get_y() + h/2, \n",
    "                         value_format.format(h), ha=\"center\", \n",
    "                         va=\"center\")\n",
    "                \n",
    "\n",
    "                \n",
    "\n",
    "dup_df4=df\n",
    "df5=dup_df4.describe()\n",
    " \n",
    "#COPYING THE REQUIRED COLUMNS INTO A DATAFRAME\n",
    "new = df5[['tower_status_radiant', 'barracks_status_radiant', 'tower_status_dire','barracks_status_dire']].copy()\n",
    "\n",
    "#COPYING VALUES OF CELLS \n",
    "data=[[new.at['mean','tower_status_radiant'],new.at['mean','tower_status_dire']],[new.at['mean','barracks_status_radiant'],new.at['mean','barracks_status_dire']]]\n",
    "series=[\"towerstatus\",\"barrackstatus\"]\n",
    "category=[\"RADIANT KINGDOM\",\"DIRE KINGDOM\"]\n",
    " \n",
    "#PLOTTING A STACKBAR GRAPH\n",
    "stacked_bar(data, series, category_labels=category, \n",
    "                show_values=True, value_format=\"{}\", y_label=None, \n",
    "                grid=False, reverse=False)"
   ]
  },
  {
   "cell_type": "markdown",
   "metadata": {},
   "source": [
    "# FUNCTION NUMBER 5 (POSTIVE VS NEGATIVE VOTES)"
   ]
  },
  {
   "cell_type": "code",
   "execution_count": 7,
   "metadata": {},
   "outputs": [
    {
     "data": {
      "image/png": "[encoded data removed]",
      "text/plain": [
       "<matplotlib.figure.Figure at 0x201b46f2780>"
      ]
     },
     "metadata": {},
     "output_type": "display_data"
    }
   ],
   "source": [
    "\n",
    "df6=df\n",
    "\n",
    "#FILLING NAN WITH 0\n",
    "df6[\"negative_votes\"].fillna(0, inplace = True)\n",
    "\n",
    "#FINDING NUMBER OF VOTES\n",
    "Total_negative_votes= sum(df6.negative_votes)\n",
    "Total_positive_votes=sum(df6.positive_votes)\n",
    "\n",
    "#PLOTTING A PIECHART\n",
    "total=[Total_negative_votes,Total_positive_votes]\n",
    "labels=[\"negative votes\",\"positive votes\"]\n",
    "colors=[\"#ff3ca3\",\"#00aa13\"]\n",
    "explode=(0.1, 0)\n",
    "plt.pie(total,labels=labels,explode=explode, colors=colors,autopct='%1.1f%%', shadow=True, startangle=90)\n",
    "\n",
    "\n",
    "plt.axis('equal')\n",
    "\n",
    "plt.title(\"Percentage OF Votes For ALL Games\")\n",
    "plt.show()\n"
   ]
  }
 ],
 "metadata": {
  "kernelspec": {
   "display_name": "Python 3",
   "language": "python",
   "name": "python3"
  },
  "language_info": {
   "codemirror_mode": {
    "name": "ipython",
    "version": 3
   },
   "file_extension": ".py",
   "mimetype": "text/x-python",
   "name": "python",
   "nbconvert_exporter": "python",
   "pygments_lexer": "ipython3",
   "version": "3.6.4"
  }
 },
 "nbformat": 4,
 "nbformat_minor": 2
}
